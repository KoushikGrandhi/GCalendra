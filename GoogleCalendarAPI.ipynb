{
 "cells": [
  {
   "cell_type": "markdown",
   "metadata": {},
   "source": [
    "* Install the oauth client lib by\n",
    ": pip install --upgrade google-api-python-client google-auth-httplib2 google-auth-oauthlib\n",
    "\n",
    "* Enable the Oauth API key for Google Calendar API from the Devlopers API Console.\n",
    "* A json file will be generated contaning the credentianls of the key for usage (\"client_secret.json\") save it same     directory as this script.\n",
    "* The CSV file should contain the following columns :\n",
    "    > A unique key value [Security value]\n",
    "    > Date of the event [Result Date]\n",
    "    > Description of the event\n",
    "    > Any additional info that you might want to be added to your event like its repeat, reminder etc in different        columns\n",
    "    \n"
   ]
  },
  {
   "cell_type": "code",
   "execution_count": null,
   "metadata": {},
   "outputs": [],
   "source": [
    "from __future__ import print_function\n",
    "import datetime\n",
    "import pickle\n",
    "import os.path\n",
    "from googleapiclient.discovery import build\n",
    "from google_auth_oauthlib.flow import InstalledAppFlow\n",
    "from google.auth.transport.requests import Request\n",
    "from dateutil.parser import parse\n",
    "import numpy as np\n",
    "import pandas as pd\n"
   ]
  },
  {
   "cell_type": "code",
   "execution_count": null,
   "metadata": {},
   "outputs": [],
   "source": [
    "scopes = ['https://www.googleapis.com/auth/calendar']"
   ]
  },
  {
   "cell_type": "code",
   "execution_count": null,
   "metadata": {
    "scrolled": true
   },
   "outputs": [],
   "source": [
    "flow = InstalledAppFlow.from_client_secrets_file(\"client_secret.json\", scopes=scopes)\n",
    "credentials = flow.run_console()"
   ]
  },
  {
   "cell_type": "code",
   "execution_count": null,
   "metadata": {},
   "outputs": [],
   "source": [
    "#to store the creds for next api calls.\n",
    "pickle.dump(credentials, open(\"token.pkl\", \"wb\")) \n",
    "credentials = pickle.load(open(\"token.pkl\", \"rb\"))"
   ]
  },
  {
   "cell_type": "code",
   "execution_count": null,
   "metadata": {},
   "outputs": [],
   "source": [
    "#initiating the service\n",
    "service = build('calendar', 'v3', \n",
    "                credentials=credentials)"
   ]
  },
  {
   "cell_type": "code",
   "execution_count": null,
   "metadata": {},
   "outputs": [],
   "source": [
    "#Sample for getting the next 10 events \n",
    "now = datetime.datetime.utcnow().isoformat() + 'Z' # 'Z' indicates UTC time\n",
    "print('Getting the upcoming 10 events')\n",
    "events_result = service.events().list(calendarId='primary', timeMin=now,\n",
    "                                    maxResults=10, singleEvents=True,\n",
    "                                    orderBy='startTime').execute()\n",
    "events = events_result.get('items', [])\n",
    "\n",
    "if not events:\n",
    "    print('No upcoming events found.')\n",
    "for event in events:\n",
    "    start = event['start'].get('dateTime', event['start'].get('date'))\n",
    "    print(event['summary'],event['id'])\n"
   ]
  },
  {
   "cell_type": "code",
   "execution_count": null,
   "metadata": {},
   "outputs": [],
   "source": [
    "# loading the csv \n",
    "df= pd.read_csv('Results.csv',sep=',')"
   ]
  },
  {
   "cell_type": "code",
   "execution_count": null,
   "metadata": {},
   "outputs": [],
   "source": [
    "#for creating first 10 events in calendar\n",
    "for i in df.head().index :\n",
    "    event = {\n",
    "  'summary': df['Security Name'][i],\n",
    "  'description': 'XXXXXX',\n",
    "  'start': {\n",
    "    'dateTime': parse(df['Result Date'][i]).isoformat()+\"Z\",\n",
    "    \n",
    "  },\n",
    "  'end': {\n",
    "    'dateTime': parse(df['Result Date'][i]).isoformat()+\"Z\",\n",
    "    'timeZone': 'America/Los_Angeles',\n",
    "  },\n",
    "}\n",
    "    event = service.events().insert(calendarId='primary', body=event).execute()"
   ]
  },
  {
   "cell_type": "code",
   "execution_count": null,
   "metadata": {},
   "outputs": [],
   "source": [
    "events = service.events().list(calendarId='primary', pageToken=page_token).execute() #df of events \n",
    "# events['items'] is a df with 'id' column from where you can get the event id by mathcing the unique 'summary' \n",
    "## that we added previously\n",
    "\n",
    "#To delete the event you will need the event id\n",
    "service.events().delete(calendarId='primary', eventId=\"XXXXXXX\").execute()"
   ]
  },
  {
   "cell_type": "code",
   "execution_count": null,
   "metadata": {},
   "outputs": [],
   "source": [
    "#for updating the events \n",
    "\n",
    "for i in df.head().index :\n",
    "    EVENT = {\n",
    "        'summary': df['Security Name'][i],\n",
    "        'description': 'XXXXXX',\n",
    "        'start':  {'dateTime': parse(df['Result Date'][i]).isoformat()+\"Z\"},\n",
    "        'end':    {'dateTime': parse(df['Result Date'][i]).isoformat()+\"Z\"},\n",
    "\n",
    "    }\n",
    "    for event in events['items']:\n",
    "        if(event['summary']==df['Security Name'][i]):\n",
    "            service.events().update(calendarId='primary',eventId=event['id'], body=EVENT).execute()\n",
    "    page_token = events.get('nextPageToken')\n",
    "    if not page_token:\n",
    "        continue"
   ]
  },
  {
   "cell_type": "code",
   "execution_count": null,
   "metadata": {},
   "outputs": [],
   "source": [
    "# Will update other functionalities that can be done."
   ]
  }
 ],
 "metadata": {
  "kernelspec": {
   "display_name": "Python 3",
   "language": "python",
   "name": "python3"
  },
  "language_info": {
   "codemirror_mode": {
    "name": "ipython",
    "version": 3
   },
   "file_extension": ".py",
   "mimetype": "text/x-python",
   "name": "python",
   "nbconvert_exporter": "python",
   "pygments_lexer": "ipython3",
   "version": "3.7.3"
  }
 },
 "nbformat": 4,
 "nbformat_minor": 2
}

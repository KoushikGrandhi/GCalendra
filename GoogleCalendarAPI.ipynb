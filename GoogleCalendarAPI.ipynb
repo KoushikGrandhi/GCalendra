{
 "cells": [
  {
   "cell_type": "code",
   "execution_count": 132,
   "metadata": {},
   "outputs": [],
   "source": [
    "from __future__ import print_function\n",
    "import datetime\n",
    "import pickle\n",
    "import os.path\n",
    "from googleapiclient.discovery import build\n",
    "from google_auth_oauthlib.flow import InstalledAppFlow\n",
    "from google.auth.transport.requests import Request\n",
    "from dateutil.parser import parse\n",
    "\n"
   ]
  },
  {
   "cell_type": "code",
   "execution_count": 87,
   "metadata": {},
   "outputs": [],
   "source": [
    "from apiclient.discovery import build\n",
    "from google_auth_oauthlib.flow import InstalledAppFlow"
   ]
  },
  {
   "cell_type": "code",
   "execution_count": 88,
   "metadata": {},
   "outputs": [],
   "source": [
    "scopes = ['https://www.googleapis.com/auth/calendar']"
   ]
  },
  {
   "cell_type": "code",
   "execution_count": 89,
   "metadata": {},
   "outputs": [
    {
     "name": "stdout",
     "output_type": "stream",
     "text": [
      "Please visit this URL to authorize this application: https://accounts.google.com/o/oauth2/auth?response_type=code&client_id=167580570288-7sk7lav2io2g18ucah0oe11hkbtbrulm.apps.googleusercontent.com&redirect_uri=urn%3Aietf%3Awg%3Aoauth%3A2.0%3Aoob&scope=https%3A%2F%2Fwww.googleapis.com%2Fauth%2Fcalendar&state=1euY0XgXu15auHg8ukdi4CGp6hDLcR&prompt=consent&access_type=offline\n",
      "Enter the authorization code: 4/zwFWrn-MDZslXq5XJCOyoV4GUj8Ju5oOkZY0fYVADTNFU0wp3DRLTzU\n"
     ]
    }
   ],
   "source": [
    "flow = InstalledAppFlow.from_client_secrets_file(\"client_secret2.json\", scopes=scopes)\n",
    "credentials = flow.run_console()"
   ]
  },
  {
   "cell_type": "code",
   "execution_count": 90,
   "metadata": {},
   "outputs": [],
   "source": [
    "pickle.dump(credentials, open(\"token.pkl\", \"wb\")) \n",
    "credentials = pickle.load(open(\"token.pkl\", \"rb\"))"
   ]
  },
  {
   "cell_type": "code",
   "execution_count": 91,
   "metadata": {},
   "outputs": [],
   "source": [
    "service = build('calendar', 'v3', \n",
    "                credentials=credentials)"
   ]
  },
  {
   "cell_type": "code",
   "execution_count": 98,
   "metadata": {},
   "outputs": [
    {
     "name": "stdout",
     "output_type": "stream",
     "text": [
      "Getting the upcoming 10 events\n",
      "Wisdom Teeth removal 5n9jif0jr2avv04348u2ehn26j\n",
      "IIT C Webinar 7.30PM 60h9kg0pv3oo6tvagec51jv484\n",
      "Jagan Mohan birthday coo30c9g6cp68b9jchi62b9k70r64bb26gojebb5cooj2p1i6lj6aohkc8_20200621T180000Z\n",
      "UIC Intent of Enroll 2kvjs3mnl63sr6b92et8qklo8r\n",
      "Sumedha Khurana birthday  68ojiohl60p38b9n61ij0b9k6ssm4b9oc5i3ab9m65hm8d1jcdj68d1mcg_20200705T175900Z\n",
      "Preeteshwar singh birthday  64rj2cj669gjabb364pm8b9k6lh3gbb265j32bb16ph3iohncgo3aor664_20200722\n",
      "Ritesh Tripathy birthday  c5im8p336di36b9j69imab9k75i38b9o68qjeb9p6lij4pj2c5gm4cj16c_20200831\n",
      "Padmini Sharma birthday 6oom4cppcgqjab9mccsm8b9kchi66bb270s62b9nc9gj6d9gc8o3adpock_20200912T163000Z\n",
      "Amish singh birthday  74p32o9p74q64bb1chhmcb9k6orm2b9pc4o66b9l6cs3gdj26opmaphn6o_20200916\n",
      "Sushant shekhar birthday  70pmap9j6oojib9p6kr66b9kcgr62b9pcphjgb9jcks38c9icor68cj46s_20200920\n"
     ]
    }
   ],
   "source": [
    "now = datetime.datetime.utcnow().isoformat() + 'Z' # 'Z' indicates UTC time\n",
    "print('Getting the upcoming 10 events')\n",
    "events_result = service.events().list(calendarId='primary', timeMin=now,\n",
    "                                    maxResults=10, singleEvents=True,\n",
    "                                    orderBy='startTime').execute()\n",
    "events = events_result.get('items', [])\n",
    "\n",
    "if not events:\n",
    "    print('No upcoming events found.')\n",
    "for event in events:\n",
    "    start = event['start'].get('dateTime', event['start'].get('date'))\n",
    "    print(event['summary'],event['id'])\n"
   ]
  },
  {
   "cell_type": "code",
   "execution_count": 46,
   "metadata": {},
   "outputs": [],
   "source": [
    "import numpy as np\n",
    "import pandas as pd"
   ]
  },
  {
   "cell_type": "code",
   "execution_count": 47,
   "metadata": {},
   "outputs": [],
   "source": [
    "df= pd.read_csv('Results.csv',sep=',')"
   ]
  },
  {
   "cell_type": "code",
   "execution_count": 48,
   "metadata": {},
   "outputs": [
    {
     "data": {
      "text/html": [
       "<div>\n",
       "<style scoped>\n",
       "    .dataframe tbody tr th:only-of-type {\n",
       "        vertical-align: middle;\n",
       "    }\n",
       "\n",
       "    .dataframe tbody tr th {\n",
       "        vertical-align: top;\n",
       "    }\n",
       "\n",
       "    .dataframe thead th {\n",
       "        text-align: right;\n",
       "    }\n",
       "</style>\n",
       "<table border=\"1\" class=\"dataframe\">\n",
       "  <thead>\n",
       "    <tr style=\"text-align: right;\">\n",
       "      <th></th>\n",
       "      <th>Security Code</th>\n",
       "      <th>Security Name</th>\n",
       "      <th>Company name</th>\n",
       "      <th>Result Date</th>\n",
       "    </tr>\n",
       "  </thead>\n",
       "  <tbody>\n",
       "    <tr>\n",
       "      <th>0</th>\n",
       "      <td>532100</td>\n",
       "      <td>INDOCITY</td>\n",
       "      <td>INDO-CITY INFOTECH LTD.-$</td>\n",
       "      <td>16 May 2020</td>\n",
       "    </tr>\n",
       "    <tr>\n",
       "      <th>1</th>\n",
       "      <td>504112</td>\n",
       "      <td>NELCO</td>\n",
       "      <td>NELCO LTD.</td>\n",
       "      <td>16 May 2020</td>\n",
       "    </tr>\n",
       "    <tr>\n",
       "      <th>2</th>\n",
       "      <td>521064</td>\n",
       "      <td>TRIDENT</td>\n",
       "      <td>TRIDENT LTD.</td>\n",
       "      <td>16 May 2020</td>\n",
       "    </tr>\n",
       "    <tr>\n",
       "      <th>3</th>\n",
       "      <td>530131</td>\n",
       "      <td>UDAICEMENT</td>\n",
       "      <td>UDAIPUR CEMENT WORKS LTD.</td>\n",
       "      <td>16 May 2020</td>\n",
       "    </tr>\n",
       "    <tr>\n",
       "      <th>4</th>\n",
       "      <td>532633</td>\n",
       "      <td>ALLSEC</td>\n",
       "      <td>ALLSEC TECHNOLOGIES LTD.</td>\n",
       "      <td>18 May 2020</td>\n",
       "    </tr>\n",
       "  </tbody>\n",
       "</table>\n",
       "</div>"
      ],
      "text/plain": [
       "   Security Code Security Name               Company name  Result Date\n",
       "0         532100      INDOCITY  INDO-CITY INFOTECH LTD.-$  16 May 2020\n",
       "1         504112         NELCO                 NELCO LTD.  16 May 2020\n",
       "2         521064       TRIDENT               TRIDENT LTD.  16 May 2020\n",
       "3         530131    UDAICEMENT  UDAIPUR CEMENT WORKS LTD.  16 May 2020\n",
       "4         532633        ALLSEC   ALLSEC TECHNOLOGIES LTD.  18 May 2020"
      ]
     },
     "execution_count": 48,
     "metadata": {},
     "output_type": "execute_result"
    }
   ],
   "source": [
    "df.head()"
   ]
  },
  {
   "cell_type": "code",
   "execution_count": 102,
   "metadata": {},
   "outputs": [
    {
     "name": "stdout",
     "output_type": "stream",
     "text": [
      "INDOCITY 2020-05-16T00:00:00Z\n",
      "NELCO 2020-05-16T00:00:00Z\n",
      "TRIDENT 2020-05-16T00:00:00Z\n",
      "UDAICEMENT 2020-05-16T00:00:00Z\n",
      "ALLSEC 2020-05-18T00:00:00Z\n"
     ]
    }
   ],
   "source": [
    "for i in df.head().index :\n",
    "    event = {\n",
    "  'summary': df['Security Name'][i],\n",
    "  'description': 'BSE Results',\n",
    "  'start': {\n",
    "    'dateTime': parse(df['Result Date'][i]).isoformat()+\"Z\",\n",
    "    \n",
    "  },\n",
    "  'end': {\n",
    "    'dateTime': parse(df['Result Date'][i]).isoformat()+\"Z\",\n",
    "    'timeZone': 'America/Los_Angeles',\n",
    "  },\n",
    "}\n",
    "    event = service.events().insert(calendarId='primary', body=event).execute()\n",
    "    print (df['Security Name'][i], parse(df['Result Date'][i]).isoformat()+\"Z\")"
   ]
  },
  {
   "cell_type": "code",
   "execution_count": 94,
   "metadata": {},
   "outputs": [
    {
     "name": "stdout",
     "output_type": "stream",
     "text": [
      "74p32o9p74q64bb1chhmcb9k6orm2b9pc4o66b9l6cs3gdj26opmaphn6o_20200916\n"
     ]
    }
   ],
   "source": [
    "print(event['id'])"
   ]
  },
  {
   "cell_type": "code",
   "execution_count": 97,
   "metadata": {},
   "outputs": [
    {
     "data": {
      "text/plain": [
       "''"
      ]
     },
     "execution_count": 97,
     "metadata": {},
     "output_type": "execute_result"
    }
   ],
   "source": [
    "service.events().delete(calendarId='primary', eventId=\"7v6trqoeor0v6adtilap8jtupp\").execute()"
   ]
  },
  {
   "cell_type": "code",
   "execution_count": 130,
   "metadata": {},
   "outputs": [],
   "source": [
    "EVENT = {\n",
    "    'start':  {'dateTime': parse(df['Result Date'][4]).isoformat()+\"Z\"},\n",
    "    'end':    {'dateTime': parse(df['Result Date'][4]).isoformat()+\"Z\"},\n",
    "    \n",
    "}"
   ]
  },
  {
   "cell_type": "code",
   "execution_count": 118,
   "metadata": {},
   "outputs": [
    {
     "name": "stdout",
     "output_type": "stream",
     "text": [
      "p7a1i4lq3mdtiep20uo1fu1s3c\n"
     ]
    },
    {
     "ename": "KeyError",
     "evalue": "'summary'",
     "output_type": "error",
     "traceback": [
      "\u001b[0;31m---------------------------------------------------------------------------\u001b[0m",
      "\u001b[0;31mKeyError\u001b[0m                                  Traceback (most recent call last)",
      "\u001b[0;32m<ipython-input-118-55f34b9c81b0>\u001b[0m in \u001b[0;36m<module>\u001b[0;34m\u001b[0m\n\u001b[1;32m      3\u001b[0m     \u001b[0mevents\u001b[0m \u001b[0;34m=\u001b[0m \u001b[0mservice\u001b[0m\u001b[0;34m.\u001b[0m\u001b[0mevents\u001b[0m\u001b[0;34m(\u001b[0m\u001b[0;34m)\u001b[0m\u001b[0;34m.\u001b[0m\u001b[0mlist\u001b[0m\u001b[0;34m(\u001b[0m\u001b[0mcalendarId\u001b[0m\u001b[0;34m=\u001b[0m\u001b[0;34m'primary'\u001b[0m\u001b[0;34m,\u001b[0m \u001b[0mpageToken\u001b[0m\u001b[0;34m=\u001b[0m\u001b[0mpage_token\u001b[0m\u001b[0;34m)\u001b[0m\u001b[0;34m.\u001b[0m\u001b[0mexecute\u001b[0m\u001b[0;34m(\u001b[0m\u001b[0;34m)\u001b[0m\u001b[0;34m\u001b[0m\u001b[0;34m\u001b[0m\u001b[0m\n\u001b[1;32m      4\u001b[0m     \u001b[0;32mfor\u001b[0m \u001b[0mevent\u001b[0m \u001b[0;32min\u001b[0m \u001b[0mevents\u001b[0m\u001b[0;34m[\u001b[0m\u001b[0;34m'items'\u001b[0m\u001b[0;34m]\u001b[0m\u001b[0;34m:\u001b[0m\u001b[0;34m\u001b[0m\u001b[0;34m\u001b[0m\u001b[0m\n\u001b[0;32m----> 5\u001b[0;31m         \u001b[0;32mif\u001b[0m\u001b[0;34m(\u001b[0m\u001b[0mevent\u001b[0m\u001b[0;34m[\u001b[0m\u001b[0;34m'summary'\u001b[0m\u001b[0;34m]\u001b[0m\u001b[0;34m==\u001b[0m\u001b[0mdf\u001b[0m\u001b[0;34m[\u001b[0m\u001b[0;34m'Security Name'\u001b[0m\u001b[0;34m]\u001b[0m\u001b[0;34m[\u001b[0m\u001b[0;36m3\u001b[0m\u001b[0;34m]\u001b[0m\u001b[0;34m)\u001b[0m\u001b[0;34m:\u001b[0m\u001b[0;34m\u001b[0m\u001b[0;34m\u001b[0m\u001b[0m\n\u001b[0m\u001b[1;32m      6\u001b[0m             \u001b[0mprint\u001b[0m\u001b[0;34m(\u001b[0m\u001b[0mevent\u001b[0m\u001b[0;34m[\u001b[0m\u001b[0;34m'id'\u001b[0m\u001b[0;34m]\u001b[0m\u001b[0;34m)\u001b[0m\u001b[0;34m\u001b[0m\u001b[0;34m\u001b[0m\u001b[0m\n\u001b[1;32m      7\u001b[0m             \u001b[0mservice\u001b[0m\u001b[0;34m.\u001b[0m\u001b[0mevents\u001b[0m\u001b[0;34m(\u001b[0m\u001b[0;34m)\u001b[0m\u001b[0;34m.\u001b[0m\u001b[0mupdate\u001b[0m\u001b[0;34m(\u001b[0m\u001b[0mcalendarId\u001b[0m\u001b[0;34m=\u001b[0m\u001b[0;34m'primary'\u001b[0m\u001b[0;34m,\u001b[0m\u001b[0meventId\u001b[0m\u001b[0;34m=\u001b[0m\u001b[0mevent\u001b[0m\u001b[0;34m[\u001b[0m\u001b[0;34m'id'\u001b[0m\u001b[0;34m]\u001b[0m\u001b[0;34m,\u001b[0m \u001b[0mbody\u001b[0m\u001b[0;34m=\u001b[0m\u001b[0mEVENT\u001b[0m\u001b[0;34m)\u001b[0m\u001b[0;34m.\u001b[0m\u001b[0mexecute\u001b[0m\u001b[0;34m(\u001b[0m\u001b[0;34m)\u001b[0m\u001b[0;34m\u001b[0m\u001b[0;34m\u001b[0m\u001b[0m\n",
      "\u001b[0;31mKeyError\u001b[0m: 'summary'"
     ]
    }
   ],
   "source": [
    "page_token = None\n",
    "while True:\n",
    "    events = service.events().list(calendarId='primary', pageToken=page_token).execute()\n",
    "    for event in events['items']:\n",
    "        if(event['summary']==df['Security Name'][3]):\n",
    "            print(event['id'])\n",
    "            service.events().update(calendarId='primary',eventId=event['id'], body=EVENT).execute()\n",
    "    page_token = events.get('nextPageToken')\n",
    "    if not page_token:\n",
    "        break"
   ]
  },
  {
   "cell_type": "code",
   "execution_count": 131,
   "metadata": {},
   "outputs": [],
   "source": [
    "eventsList=service.events().list(calendarId='primary', pageToken=page_token).execute()\n",
    "\n",
    "for event in eventsList['items']:\n",
    "    if(event['summary']==df['Security Name'][0]):\n",
    "        EVENT = {\n",
    "            'summary': df['Security Name'][0],\n",
    "    'start':  {'dateTime': parse(df['Result Date'][4]).isoformat()+\"Z\"},\n",
    "    'end':    {'dateTime': parse(df['Result Date'][4]).isoformat()+\"Z\"},\n",
    "    \n",
    "}\n",
    "        service.events().update(calendarId='primary',eventId=event['id'], body=EVENT).execute()\n"
   ]
  },
  {
   "cell_type": "code",
   "execution_count": null,
   "metadata": {},
   "outputs": [],
   "source": []
  }
 ],
 "metadata": {
  "kernelspec": {
   "display_name": "Python 3",
   "language": "python",
   "name": "python3"
  },
  "language_info": {
   "codemirror_mode": {
    "name": "ipython",
    "version": 3
   },
   "file_extension": ".py",
   "mimetype": "text/x-python",
   "name": "python",
   "nbconvert_exporter": "python",
   "pygments_lexer": "ipython3",
   "version": "3.7.3"
  }
 },
 "nbformat": 4,
 "nbformat_minor": 2
}
